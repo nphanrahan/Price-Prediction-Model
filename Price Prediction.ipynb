{
 "cells": [
  {
   "cell_type": "code",
   "execution_count": 1,
   "id": "9034601d",
   "metadata": {},
   "outputs": [],
   "source": [
    "# Use pip install yfinance pandas to get yfinance\n",
    "\n",
    "import yfinance as yf\n",
    "import pandas as pd\n",
    "from datetime import datetime, timedelta\n",
    "from sklearn.preprocessing import MinMaxScaler\n",
    "from sklearn.linear_model import LinearRegression\n",
    "from sklearn.model_selection import train_test_split\n",
    "from sklearn.metrics import mean_squared_error\n",
    "import numpy as np\n",
    "from datetime import datetime, timedelta\n",
    "from pandas.tseries.holiday import USFederalHolidayCalendar"
   ]
  },
  {
   "cell_type": "code",
   "execution_count": 2,
   "id": "67437ca1",
   "metadata": {},
   "outputs": [],
   "source": [
    "# Function pulling date from Yahoo Finance \n",
    "\n",
    "def fetch_save_data(ticker, start_date, end_date, file_name):\n",
    "    \n",
    "    data = yf.download(ticker, start=start_date, end=end_date)\n",
    "    \n",
    "    # Sort the DataFrame by date in descending order\n",
    "    data_sorted = data.sort_index(ascending=False)\n",
    "    \n",
    "    # Print the head of the sorted data\n",
    "    print(data_sorted.head())\n",
    "    \n",
    "    data.to_csv(file_name)\n"
   ]
  },
  {
   "cell_type": "code",
   "execution_count": 3,
   "id": "f79ce593",
   "metadata": {},
   "outputs": [
    {
     "name": "stdout",
     "output_type": "stream",
     "text": [
      "[*********************100%%**********************]  1 of 1 completed\n",
      "                 Open       High        Low      Close  Adj Close    Volume\n",
      "Date                                                                       \n",
      "2023-10-12  36.799999  37.220001  36.389999  36.840000  36.840000  23616000\n",
      "2023-10-11  36.619999  37.029999  36.380001  36.880001  36.880001  19262600\n",
      "2023-10-10  36.139999  36.740002  35.810001  36.430000  36.430000  24044100\n",
      "2023-10-09  35.700001  36.169998  35.500000  36.060001  36.060001  19376100\n",
      "2023-10-06  35.869999  36.459999  35.180000  36.189999  36.189999  33252300\n"
     ]
    }
   ],
   "source": [
    "# Check function works:\n",
    "\n",
    "end_date = datetime.today().strftime('%Y-%m-%d')\n",
    "fetch_save_data(\"INTC\", start_date=\"1990-01-01\", end_date=end_date, file_name=\"intel_data.csv\")"
   ]
  },
  {
   "cell_type": "code",
   "execution_count": 4,
   "id": "33a8e83f",
   "metadata": {},
   "outputs": [],
   "source": [
    "# Loading Data in order to scale it from -1 to 1\n",
    "\n",
    "data = pd.read_csv('intel_data.csv', parse_dates=True, index_col='Date')"
   ]
  },
  {
   "cell_type": "code",
   "execution_count": 5,
   "id": "c2f40ab2",
   "metadata": {},
   "outputs": [
    {
     "name": "stdout",
     "output_type": "stream",
     "text": [
      "                Open      High       Low     Close  Adj Close    Volume\n",
      "Date                                                                   \n",
      "1990-01-02 -0.995399 -0.994993 -0.994845 -0.994191  -0.996109 -0.778739\n",
      "1990-01-03 -0.994145 -0.994784 -0.993986 -0.995036  -0.996675 -0.758721\n",
      "1990-01-04 -0.994772 -0.994993 -0.994416 -0.994402  -0.996251 -0.797626\n",
      "1990-01-05 -0.994354 -0.994993 -0.993771 -0.994613  -0.996392 -0.873334\n",
      "1990-01-08 -0.994354 -0.994784 -0.993557 -0.994191  -0.996109 -0.851205\n"
     ]
    }
   ],
   "source": [
    "# Scaling the Data from -1 to 1\n",
    "# Question: How much does scaling matter when almost all variables are based in dollars? Volume is not on the same scale, but everything else is.\n",
    "\n",
    "scaler = MinMaxScaler(feature_range=(-1, 1))\n",
    "scaled_data = pd.DataFrame(scaler.fit_transform(data), columns=data.columns, index=data.index)\n",
    "print(scaled_data.head())"
   ]
  },
  {
   "cell_type": "code",
   "execution_count": 9,
   "id": "39bee5c8",
   "metadata": {},
   "outputs": [
    {
     "name": "stdout",
     "output_type": "stream",
     "text": [
      "Mean Squared Error: 0.12256577050149399\n"
     ]
    }
   ],
   "source": [
    "# Reads the file\n",
    "# Tells pd to parse any columns that look like dates into DateTime objects\n",
    "# Specify that Date is the index for the df\n",
    "data = pd.read_csv('intel_data.csv', parse_dates=True, index_col='Date')\n",
    "\n",
    "# Create previous time steps that include the last 5 days data\n",
    "lags = 5\n",
    "# Loop to create lagged features ranging from 1 to 5\n",
    "for i in range(1, lags + 1):\n",
    "    data[f'lag_{i}'] = data['Close'].shift(i)\n",
    "\n",
    "# Drop rows with missing values\n",
    "data = data.dropna()\n",
    "\n",
    "# Dropping all values that aren't independent variables\n",
    "# Assigning 'Close' as the dependent variable\n",
    "X = data.drop(['Close', 'Adj Close'], axis=1)  # Using all columns as features except Close and Adj Close\n",
    "y = data['Close']\n",
    "\n",
    "# Split data and assign 20% of the data for testing and 80% for training\n",
    "# Make sure the data is not being randomly shuffled\n",
    "X_train, X_test, y_train, y_test = train_test_split(X, y, test_size=0.2, shuffle=False)\n",
    "\n",
    "# Initializing the regression with the assigned training data\n",
    "model = LinearRegression()\n",
    "model.fit(X_train, y_train)\n",
    "\n",
    "# Predict what the X_test value is\n",
    "y_pred = model.predict(X_test)\n",
    "\n",
    "# Evaluating the MSE between the true (y_yest) values and predicted (y_pred) values\n",
    "mse = mean_squared_error(y_test, y_pred)\n",
    "print(f'Mean Squared Error: {mse}')\n"
   ]
  },
  {
   "cell_type": "code",
   "execution_count": 8,
   "id": "57d88d2c",
   "metadata": {},
   "outputs": [
    {
     "name": "stdout",
     "output_type": "stream",
     "text": [
      "Predicted closing price for the next trading day: $36.79\n"
     ]
    }
   ],
   "source": [
    "# 1. Get the latest `lags` closing prices\n",
    "latest_closing_prices = data['Close'][-lags:].values\n",
    "\n",
    "# 2. Construct a feature vector for the next day\n",
    "next_day_data = data.iloc[-1].drop(['Close', 'Adj Close']).copy()\n",
    "\n",
    "for i, price in enumerate(reversed(latest_closing_prices)):\n",
    "    next_day_data[f'lag_{i+1}'] = price\n",
    "\n",
    "# Convert to DataFrame to maintain feature names\n",
    "next_day_features = pd.DataFrame([next_day_data.values], columns=next_day_data.index)\n",
    "\n",
    "# 3. Predict the closing price using your trained model\n",
    "predicted_next_day_close = model.predict(next_day_features)\n",
    "\n",
    "print(f\"Predicted closing price for the next trading day: ${predicted_next_day_close[0]:.2f}\")\n",
    "\n"
   ]
  }
 ],
 "metadata": {
  "kernelspec": {
   "display_name": "Python 3 (ipykernel)",
   "language": "python",
   "name": "python3"
  },
  "language_info": {
   "codemirror_mode": {
    "name": "ipython",
    "version": 3
   },
   "file_extension": ".py",
   "mimetype": "text/x-python",
   "name": "python",
   "nbconvert_exporter": "python",
   "pygments_lexer": "ipython3",
   "version": "3.10.9"
  }
 },
 "nbformat": 4,
 "nbformat_minor": 5
}
